{
 "cells": [
  {
   "cell_type": "code",
   "execution_count": 1,
   "metadata": {},
   "outputs": [
    {
     "name": "stderr",
     "output_type": "stream",
     "text": [
      "/raid/home/bournez_pie/mva_geom/mva_geom_24/venv/lib/python3.8/site-packages/torch/cuda/__init__.py:128: UserWarning: CUDA initialization: CUDA unknown error - this may be due to an incorrectly set up environment, e.g. changing env variable CUDA_VISIBLE_DEVICES after program start. Setting the available devices to be zero. (Triggered internally at ../c10/cuda/CUDAFunctions.cpp:108.)\n",
      "  return torch._C._cuda_getDeviceCount() > 0\n"
     ]
    }
   ],
   "source": [
    "import numpy as np\n",
    "import time\n",
    "import torch\n",
    "import torch.nn as nn\n",
    "import torch.nn.functional as F\n",
    "from matplotlib import pyplot as plt\n",
    "from slices import display_multi_slices, get_sdf_image\n",
    "from tqdm.auto import tqdm\n",
    "from synthetic_data import sphere_data, square_data\n",
    "from marching_squares import get_img_marching_squares, display_multiple_shapes_sdf\n",
    "\n",
    "device = torch.device(\"cuda\" if torch.cuda.is_available() else \"cpu\")\n",
    "# device=\"cpu\""
   ]
  },
  {
   "cell_type": "markdown",
   "metadata": {},
   "source": [
    "## Models for the point clouds ! "
   ]
  },
  {
   "cell_type": "code",
   "execution_count": 2,
   "metadata": {},
   "outputs": [
    {
     "data": {
      "text/plain": [
       "tensor([[-0.0382],\n",
       "        [-0.0825],\n",
       "        [ 0.0669],\n",
       "        ...,\n",
       "        [ 0.0027],\n",
       "        [-0.0587],\n",
       "        [-0.2395]], grad_fn=<AddmmBackward0>)"
      ]
     },
     "execution_count": 2,
     "metadata": {},
     "output_type": "execute_result"
    }
   ],
   "source": [
    "class SirenLayer(nn.Module):\n",
    "    def __init__(\n",
    "        self, in_features, out_features, bias=True, is_first=False, omega_0=30\n",
    "    ):\n",
    "        super().__init__()\n",
    "        self.omega_0 = omega_0\n",
    "        self.is_first = is_first\n",
    "\n",
    "        self.in_features = in_features\n",
    "        ## Create the layer, and initialize it. You can do it in init_weights\n",
    "\n",
    "        self.fc1 = nn.Linear(in_features, out_features, bias=bias)\n",
    "        self.init_weights()\n",
    "\n",
    "    def init_weights(self):\n",
    "        with torch.no_grad():\n",
    "            if self.is_first:\n",
    "                ## Initialization of first layer type\n",
    "                size = 1 / self.in_features\n",
    "            else:\n",
    "                size = np.sqrt(6 / self.in_features) / self.omega_0\n",
    "                ## Other initialization\n",
    "            self.fc1.weight.uniform_(-size, size)\n",
    "\n",
    "    def forward(self, input):\n",
    "        ## Logic\n",
    "        return torch.sin(self.omega_0 * self.fc1(input))\n",
    "\n",
    "\n",
    "input = torch.randn(2000, 3)\n",
    "layer = SirenLayer(3, 256, is_first=True)\n",
    "layer(input)\n",
    "class SirenNet(torch.nn.Module):\n",
    "    def __init__(self, dim_in, dim_hidden, dim_out, num_layers, skip=[], omega_0=30.0):\n",
    "        super().__init__()\n",
    "        self.num_layers = num_layers\n",
    "        self.dim_hidden = dim_hidden\n",
    "        self.skip = [i in skip for i in range(num_layers)]\n",
    "        self.omega_0 = omega_0\n",
    "        layers_list = []\n",
    "        ## Create layer\n",
    "        # first layer\n",
    "        layers_list.append(\n",
    "            SirenLayer(\n",
    "                in_features=dim_in,\n",
    "                out_features=dim_hidden,\n",
    "                is_first=True,\n",
    "                omega_0=omega_0,\n",
    "            )\n",
    "        )\n",
    "        for k in range(1, num_layers):\n",
    "            layers_list.append(\n",
    "                SirenLayer(\n",
    "                    in_features=dim_hidden,\n",
    "                    out_features=dim_hidden,\n",
    "                    is_first=False,\n",
    "                    omega_0=omega_0,\n",
    "                )\n",
    "            )\n",
    "        ## Last layer is a simple linear layer. Don't forget to intialize your weights as before!\n",
    "        self.skip.append(False)\n",
    "        self.last_layer = nn.Linear(dim_hidden, dim_out, bias=True)\n",
    "        ## Init last layer\n",
    "        size = np.sqrt(6 / dim_in) / self.omega_0\n",
    "        with torch.no_grad():\n",
    "            self.last_layer.weight.uniform_(-size, size)\n",
    "        # create the network\n",
    "        self.layers = nn.ModuleList(layers_list)\n",
    "\n",
    "    def forward(self, x):\n",
    "        ## Network logic\n",
    "        ## You can ignore skip connections at the beginning\n",
    "        #! The skip is never initialized so we don't know what is exactly this parameters,\n",
    "        #! we assume it's a list of index where we have to skip the connection\n",
    "\n",
    "        for index, layer in enumerate(self.layers):\n",
    "            if self.skip[index]:\n",
    "                x = x + layer(x)\n",
    "            else:\n",
    "                x = layer(x)\n",
    "        output = self.last_layer(x)\n",
    "        return output\n",
    "\n",
    "\n",
    "input = torch.randn(2000, 3, device=device)\n",
    "net = SirenNet(dim_in=3, dim_hidden=256, dim_out=1, num_layers=5, skip=[]).to(device)\n",
    "net(input) \n"
   ]
  },
  {
   "cell_type": "markdown",
   "metadata": {},
   "source": [
    "# Create the data"
   ]
  },
  {
   "cell_type": "code",
   "execution_count": 3,
   "metadata": {},
   "outputs": [],
   "source": [
    "def sample_xt(batch_size, dim_space=2):\n",
    "    ## Sample random points in space ([-1, 1]^2) and in time ([0, 1])\n",
    "    list = [batch_size, dim_space]\n",
    "    pts_random = (torch.rand(list, device=device)) * 2 - 1\n",
    "    time_random = torch.rand(batch_size, device=device)\n",
    "\n",
    "    return pts_random\n"
   ]
  },
  {
   "cell_type": "markdown",
   "metadata": {},
   "source": [
    "## Loss functions "
   ]
  },
  {
   "cell_type": "code",
   "execution_count": 8,
   "metadata": {},
   "outputs": [
    {
     "data": {
      "text/plain": [
       "torch.Size([2000, 3])"
      ]
     },
     "execution_count": 8,
     "metadata": {},
     "output_type": "execute_result"
    }
   ],
   "source": [
    "def project_pc(net,input_pc):\n",
    "    # apply F (n, fθ ) = n − d × ∇fθ (n, c)/||∇fθ (n, c)||2\n",
    "    d= net(input_pc)\n",
    "    grad= gradient(d, input_pc)\n",
    "    return input_pc - d * grad/ torch.norm(grad, dim=1).view(-1,1)\n",
    "input_pc= torch.randn(2000, 3, device=device)\n",
    "input_pc.requires_grad = True\n",
    "project_pc(net,input_pc).shape"
   ]
  },
  {
   "cell_type": "code",
   "execution_count": 4,
   "metadata": {},
   "outputs": [],
   "source": [
    "def alternative_random_choice(\n",
    "    array: \"torch.tensor\", size: int, replace: bool = False, shape: int = 0\n",
    "):\n",
    "    weights = torch.ones(array.shape[shape])\n",
    "\n",
    "    idx = torch.multinomial(weights, size, replacement=replace)\n",
    "    return idx\n"
   ]
  },
  {
   "cell_type": "code",
   "execution_count": 9,
   "metadata": {},
   "outputs": [],
   "source": [
    "# data should be 0 on the shape\n",
    "def loss_data(sdf_pc):\n",
    "    return torch.mean(sdf_pc**2)  # \n",
    "\n",
    "def gradient(y, x, grad_outputs=None):\n",
    "    if grad_outputs is None:\n",
    "        grad_outputs = torch.ones_like(y)\n",
    "    grad = torch.autograd.grad(y, [x], grad_outputs=grad_outputs, create_graph=True)[0]\n",
    "    return grad\n",
    "\n",
    "\n",
    "def loss_normalign(grad_pc, sample_nc):\n",
    "    first_ps = torch.sum(sample_nc * grad_pc, dim=1)\n",
    "    return ((1 - first_ps) ** 2).mean()\n",
    "def loss_shape_data(net, pc, normals, batch_size=2000, dim_space=2):\n",
    "    # sample batch size points and the corresponding normals\n",
    "    idxs = alternative_random_choice(array=pc, size=batch_size, shape=0)\n",
    "    sample_pc = pc[idxs]\n",
    "    sample_pc.requires_grad = True\n",
    "    sample_nc = normals[idxs]  #! Same idx !\n",
    "\n",
    "    sdf_pc = net(sample_pc)\n",
    "    # spatial gradients\n",
    "    grad_pc = gradient(sdf_pc, sample_pc)[:, 0:2]\n",
    "\n",
    "    ## compute loss\n",
    "    loss_pc = 100 * loss_data(sdf_pc) + loss_normalign(grad_pc, sample_nc)\n",
    "    return loss_pc"
   ]
  },
  {
   "cell_type": "code",
   "execution_count": 10,
   "metadata": {},
   "outputs": [],
   "source": [
    "import numpy as np\n",
    "import ot"
   ]
  },
  {
   "cell_type": "code",
   "execution_count": 11,
   "metadata": {},
   "outputs": [
    {
     "data": {
      "text/plain": [
       "tensor(0.0271, grad_fn=<ValFunctionBackward>)"
      ]
     },
     "execution_count": 11,
     "metadata": {},
     "output_type": "execute_result"
    }
   ],
   "source": [
    "import numpy as np\n",
    "import ot\n",
    "def compute_EMD(net,input_pc ,batch_size,dim_space=2):\n",
    "    # we compute L(F (Ni, fθ ), Nj ). \n",
    "    # We use the EMD loss to compute the distance between the two point clouds\n",
    "\n",
    "    # sample batch size points and the corresponding normals\n",
    "    idxs = alternative_random_choice(array=input_pc, size=batch_size, shape=0)\n",
    "    sample_pc = input_pc[idxs]\n",
    "    Ni=project_pc(net,sample_pc)\n",
    "    Nj=input_pc[alternative_random_choice(array=input_pc, size=batch_size, shape=0)]\n",
    "\n",
    "    # compute the EMD loss\n",
    "    # Uniform weights for each point (assuming equal weight)\n",
    "    weights1 = torch.ones(len(Ni)) / len(Ni)\n",
    "    weights2 = torch.ones(len(Nj))/ len(Nj)\n",
    "    cost_matrix=ot.dist(Ni, Nj)\n",
    "    # Compute the Earth Mover's Distance (Optimal Transport)\n",
    "    emd_value = ot.emd2(weights1, weights2, cost_matrix)\n",
    "    return emd_value\n",
    "        \n",
    "input_pc= torch.randn(2000, 3, device=device)\n",
    "input_pc.requires_grad = True\n",
    "compute_EMD(net,input_pc,2000)"
   ]
  },
  {
   "cell_type": "code",
   "execution_count": 12,
   "metadata": {},
   "outputs": [
    {
     "data": {
      "text/plain": [
       "tensor(11.6723, grad_fn=<MulBackward0>)"
      ]
     },
     "execution_count": 12,
     "metadata": {},
     "output_type": "execute_result"
    }
   ],
   "source": [
    "# we compute the second term of the loss\n",
    "def loss_geometric_consistency(net,input_pc,batch_size=2000,dim_space=2):\n",
    "    idxs = alternative_random_choice(array=input_pc, size=batch_size, shape=0)\n",
    "    sample_pc = input_pc[idxs]\n",
    "    # We compute λ|Ni| * R(E)\n",
    "    ni_barre=input_pc.shape[0]\n",
    "    d= net(input_pc)\n",
    "    nprime=project_pc(net,input_pc=input_pc)\n",
    "    # compute |fθ (n, c)| − minn′ ∈F (Ni,fθ ) ||n − n′||2)\n",
    "    # Compute pairwise Euclidean distances in a vectorized way\n",
    "    dist_matrix = torch.cdist(input_pc, nprime)  # Shape: (N, N)\n",
    "    \n",
    "    # Get the minimum distance for each point\n",
    "    min_distances, _ = torch.min(dist_matrix, dim=1)\n",
    "    # Apply R(E) and compute sum\n",
    "    #Compute E\n",
    "    E = torch.abs(torch.norm(d) - min_distances.unsqueeze(1))  # Broadcasting\n",
    "\n",
    "    regularization_term = torch.sum(nn.ReLU()(E))\n",
    "\n",
    "    return 1/input_pc.shape[0] *regularization_term if input_pc.shape[0] > 0 else torch.tensor(0.0)\n",
    "\n",
    "input_pc= torch.randn(2000, 3, device=device)\n",
    "input_pc.requires_grad = True\n",
    "net= SirenNet(dim_in=3, dim_hidden=256, dim_out=1, num_layers=5, skip=[]).to(device)\n",
    "loss_geometric_consistency(net,input_pc)"
   ]
  },
  {
   "cell_type": "markdown",
   "metadata": {},
   "source": [
    "## compute the eikonal loss"
   ]
  },
  {
   "cell_type": "code",
   "execution_count": 13,
   "metadata": {},
   "outputs": [
    {
     "data": {
      "text/plain": [
       "tensor(3.1268, grad_fn=<MeanBackward0>)"
      ]
     },
     "execution_count": 13,
     "metadata": {},
     "output_type": "execute_result"
    }
   ],
   "source": [
    "def loss_eikonal_pts(grad_pts):\n",
    "    ## Get the eikonal loss given spatial gradients\n",
    "    return torch.mean(torch.abs(torch.norm(grad_pts, dim=1) - 1))\n",
    "def gradient(y, x, grad_outputs=None):\n",
    "    if grad_outputs is None:\n",
    "        grad_outputs = torch.ones_like(y)\n",
    "    grad = torch.autograd.grad(y, [x], grad_outputs=grad_outputs, create_graph=True)[0]\n",
    "    return grad\n",
    "def loss_eikonal(net, batch_size, dim_space=2):\n",
    "    ## Sample random points in space ([-1, 1]^2) and in time ([0, 1]), and compute eikonal loss\n",
    "    pts_random = sample_xt(batch_size, dim_space)\n",
    "    pts_random.requires_grad = True\n",
    "\n",
    "    sdf_random = net(pts_random)\n",
    "\n",
    "    grad_tot_random = gradient(sdf_random, pts_random)\n",
    "    grad_spatial = grad_tot_random[:, 0:2]\n",
    "    return loss_eikonal_pts(grad_spatial)\n",
    "\n",
    "\n",
    "net = SirenNet(dim_in=2, dim_hidden=256, dim_out=1, num_layers=5).to(device)\n",
    "loss_eikonal(net, 2000, 2)"
   ]
  },
  {
   "cell_type": "markdown",
   "metadata": {},
   "source": [
    "# Complete loss"
   ]
  },
  {
   "cell_type": "code",
   "execution_count": 198,
   "metadata": {},
   "outputs": [
    {
     "data": {
      "text/plain": [
       "tensor(57.4913, grad_fn=<AddBackward0>)"
      ]
     },
     "execution_count": 198,
     "metadata": {},
     "output_type": "execute_result"
    }
   ],
   "source": [
    "def evaluate_loss_cst_vf(\n",
    "    net,\n",
    "    pc,\n",
    "    normals,\n",
    "    hints_pc,\n",
    "    gtsdf,\n",
    "    vf,\n",
    "    lpc,\n",
    "    leik,\n",
    "    lemd,\n",
    "    lgc,\n",
    "    lambda_pc=1,\n",
    "    lambda_eik=2,\n",
    "    lambda_hint=1,\n",
    "    lambda_lse=1,\n",
    "    batch_size=2000,\n",
    "    lambda_gc=1,\n",
    "    lambda_emd=1,\n",
    "    dim_space=2\n",
    "):\n",
    "    pc.requires_grad = True\n",
    "    # they are all at time 0 ! \n",
    "    # Compute the EMD \n",
    "    loss_EMD=compute_EMD(net=net,input_pc=pc,batch_size=batch_size)\n",
    "\n",
    "    # Compute the geometric consistency loss\n",
    "    loss_gc=loss_geometric_consistency(net=net,input_pc=pc)\n",
    "\n",
    "    # compute and store standard losses\n",
    "    # loss_pc = loss_shape_data(net, pc, normals, batch_size)\n",
    "\n",
    "    # loss_hint = loss_amb(net, hints_pc, gtsdf, batch_size)\n",
    "\n",
    "    loss_eik = loss_eikonal(net, batch_size,dim_space=dim_space)\n",
    "\n",
    "    # loss_lse = loss_lse_eq(net, vf, batch_size)\n",
    "\n",
    "    # append all the losses\n",
    "    # lpc.append(float(loss_pc))\n",
    "    leik.append(float(loss_eik))\n",
    "    lemd.append(float(loss_EMD))\n",
    "    lgc.append(float(loss_gc))\n",
    "    # lh.append(float(loss_hint))\n",
    "    # llse.append(float(loss_lse))\n",
    "\n",
    "    # sum the losses of reach of this set of points\n",
    "    loss = (\n",
    "        # lambda_pc * loss_pc\n",
    "        lambda_eik * loss_eik+\n",
    "        lambda_emd * loss_EMD+\n",
    "        lambda_gc * loss_gc\n",
    "\n",
    "        # + lambda_hint * loss_hint\n",
    "        # + lambda_lse * loss_lse\n",
    "    )\n",
    "\n",
    "    return loss\n",
    "pc_input = torch.randn(10000, 3, device=device)\n",
    "# pc_input.requires_grad = True\n",
    "normals = torch.randn(10000, 2, device=device)\n",
    "hints_pc = torch.randn(100000, 3, device=device)\n",
    "gtsdf = torch.randn(100000, device=device)\n",
    "vf = torch.randn(2, device=device)\n",
    "net = SirenNet(dim_in=3, dim_hidden=256, dim_out=3, num_layers=5).to(device)\n",
    "lpc = []\n",
    "leik = []\n",
    "lh = []\n",
    "llse = []\n",
    "lemd=[]\n",
    "lgc=[]\n",
    "net = net.to(device)\n",
    "evaluate_loss_cst_vf(net=net,\n",
    "                     pc=pc_input,\n",
    "                     normals=normals,\n",
    "                     hints_pc=hints_pc,\n",
    "                     gtsdf=gtsdf,\n",
    "                     vf=vf,\n",
    "                     lpc=lpc,\n",
    "                     leik=leik,\n",
    "                     lemd=lemd,\n",
    "                     lgc=lgc,\n",
    "                     dim_space=3\n",
    "                     )"
   ]
  },
  {
   "cell_type": "markdown",
   "metadata": {},
   "source": [
    "# Run function"
   ]
  },
  {
   "cell_type": "code",
   "execution_count": 199,
   "metadata": {},
   "outputs": [],
   "source": [
    "def optimize_nise_vf(\n",
    "    net,\n",
    "    pc0,\n",
    "    nc0,\n",
    "    hints0,\n",
    "    gtsdf0,\n",
    "    vf,\n",
    "    lpc,\n",
    "    leik,\n",
    "    lh,\n",
    "    llse,\n",
    "    lemd,\n",
    "    lgc,\n",
    "    lambda_pc=1,\n",
    "    lambda_eik=2,\n",
    "    lambda_hint=1,\n",
    "    lambda_lse=2,\n",
    "    lambda_gc=1,\n",
    "    lambda_emd=1,\n",
    "    batch_size=2000,\n",
    "    nepochs=100,\n",
    "    plot_loss=True,\n",
    "):\n",
    "    # pc0, nc0, hints0, gtsdf0 are the input data at time  0\n",
    "    # vf is the velocity field\n",
    "    # lpc, leik, lh, llse are lists to store the losses\n",
    "    # lambda_pc, lambda_eik, lambda_hint, lambda_lse are the weights of the losses\n",
    "    optim = torch.optim.Adam(params=net.parameters(), lr=2e-5)\n",
    "\n",
    "    tinit = time.time()\n",
    "    pbar = tqdm(total=nepochs, desc=\"Training\")\n",
    "    for batch in range(nepochs):\n",
    "        optim.zero_grad()\n",
    "\n",
    "        loss = evaluate_loss_cst_vf(\n",
    "            net=net,\n",
    "            pc=pc0,\n",
    "            normals=nc0,\n",
    "            hints_pc=hints0,\n",
    "            gtsdf=gtsdf0,\n",
    "            vf=vf,\n",
    "            lpc=lpc,\n",
    "            leik=leik,\n",
    "            lemd=lemd,\n",
    "            lgc=lgc,\n",
    "            lambda_pc=lambda_pc,\n",
    "            lambda_eik=lambda_eik,\n",
    "            lambda_hint=lambda_hint,\n",
    "            lambda_lse=lambda_lse,\n",
    "            batch_size=batch_size,\n",
    "            lambda_gc=lambda_gc,\n",
    "            lambda_emd=lambda_emd,\n",
    "            dim_space=pc0.shape[1]\n",
    "\n",
    "        )\n",
    "\n",
    "        loss.backward()\n",
    "        optim.step()\n",
    "        if batch % 100 == 99 or batch == 0:\n",
    "            # print(f\"Epoch {batch}/{nepochs} - loss : {loss.item()}\")\n",
    "            pbar.set_postfix({\"loss\": loss.item()})\n",
    "        pbar.update(1)\n",
    "\n",
    "    tend = time.time()\n",
    "\n",
    "    print(\"Optimizing NN took\", \"{:.2f}\".format(tend - tinit), \"s.\")"
   ]
  },
  {
   "cell_type": "markdown",
   "metadata": {},
   "source": [
    "# actual data :\n",
    "For work only 2D canonical shape(?)"
   ]
  },
  {
   "cell_type": "code",
   "execution_count": 200,
   "metadata": {},
   "outputs": [
    {
     "data": {
      "image/png": "[encoded data removed]",
      "text/plain": [
       "<Figure size 800x1500 with 4 Axes>"
      ]
     },
     "metadata": {},
     "output_type": "display_data"
    }
   ],
   "source": [
    "pc0, nc0, pts_hints0, gt_sdf_hints0, gt_grad_hints0, coords, sdf_coords = sphere_data(\n",
    "    10000, 100000\n",
    ")\n",
    "\n",
    "# constant vector field (a single vector)\n",
    "vf = torch.tensor([0.3, 0.0], device=device)\n",
    "\n",
    "\n",
    "fig, axs = plt.subplots(1, 4, figsize=(8, 15))\n",
    "pc_numpy = pc0.detach().cpu().numpy()\n",
    "axs[0].scatter(pc_numpy[::100, 0], pc_numpy[::100, 1])\n",
    "axs[0].set_aspect(1.0 / axs[0].get_data_ratio(), adjustable=\"box\")\n",
    "axs[0].set_xlim([-1, 1])\n",
    "axs[0].set_ylim([-1, 1])\n",
    "axs[0].set_title(\"Sphere points\")\n",
    "sdf_numpy = sdf_coords.detach().cpu().numpy()\n",
    "axs[1].imshow(get_sdf_image(sdf_numpy))\n",
    "axs[1].contour(sdf_numpy, 10, colors=\"k\", linewidths=0.4, linestyles=\"solid\")\n",
    "axs[1].set_xticks([])\n",
    "axs[1].set_yticks([])\n",
    "axs[1].set_title(\"Ground truth SDF\")\n",
    "rec_img = get_img_marching_squares(sdf_numpy)\n",
    "axs[2].imshow(rec_img)\n",
    "axs[2].set_xticks([])\n",
    "axs[2].set_yticks([])\n",
    "axs[2].set_title(\"Reconstructed shape\")\n",
    "\n",
    "\n",
    "def get_vector_field_meshgrid(X_value, Y_value):\n",
    "    # Create a grid of points\n",
    "    x = np.linspace(-1, 1, 20)\n",
    "    y = np.linspace(-1, 1, 20)\n",
    "    X, Y = np.meshgrid(x, y)\n",
    "\n",
    "    # Define the constant vector field (e.g., constant vector [1, 1] everywhere)\n",
    "    U = np.ones_like(X) * X_value / (10 * max(X_value, Y_value))  # constant x-component\n",
    "    V = np.ones_like(Y) * Y_value / (10 * max(X_value, Y_value))  # constant y-component\n",
    "    return X, Y, U, V\n",
    "\n",
    "\n",
    "X, Y, U, V = get_vector_field_meshgrid(vf[0].item(), vf[1].item())\n",
    "axs[3].quiver(X, Y, U, V, angles=\"xy\", scale_units=\"xy\", scale=1)\n",
    "axs[3].set_xlim((-1, 1))\n",
    "axs[3].set_ylim((-1, 1))\n",
    "axs[3].set_aspect(\"equal\")\n",
    "axs[3].set_xticks([])\n",
    "axs[3].set_yticks([])\n",
    "axs[3].set_title(\"Constant Vector Field\")\n",
    "axs[3].grid()\n",
    "plt.tight_layout()\n",
    "plt.show()"
   ]
  },
  {
   "cell_type": "code",
   "execution_count": 201,
   "metadata": {},
   "outputs": [],
   "source": [
    "npl = 128\n",
    "depth = 3\n",
    "net = SirenNet(dim_in=2, dim_out=1, num_layers=depth, dim_hidden=npl, skip=[]).to(\n",
    "    device\n",
    ")\n",
    "lpc, leik, lh, llse = [], [], [], []\n",
    "lemd=[]\n",
    "lgc=[]\n"
   ]
  },
  {
   "cell_type": "code",
   "execution_count": 202,
   "metadata": {},
   "outputs": [
    {
     "data": {
      "application/vnd.jupyter.widget-view+json": {
       "model_id": "127a01b459244441aa59440b9574e1f8",
       "version_major": 2,
       "version_minor": 0
      },
      "text/plain": [
       "Training:   0%|          | 0/1000 [00:00<?, ?it/s]"
      ]
     },
     "metadata": {},
     "output_type": "display_data"
    },
    {
     "ename": "KeyboardInterrupt",
     "evalue": "",
     "output_type": "error",
     "traceback": [
      "\u001b[0;31m---------------------------------------------------------------------------\u001b[0m",
      "\u001b[0;31mKeyboardInterrupt\u001b[0m                         Traceback (most recent call last)",
      "Cell \u001b[0;32mIn[202], line 4\u001b[0m\n\u001b[1;32m      2\u001b[0m pts_hintst0 \u001b[38;5;241m=\u001b[39m pts_hints0\u001b[38;5;241m.\u001b[39mclone()\n\u001b[1;32m      3\u001b[0m nepochs \u001b[38;5;241m=\u001b[39m \u001b[38;5;241m1000\u001b[39m\n\u001b[0;32m----> 4\u001b[0m \u001b[43moptimize_nise_vf\u001b[49m\u001b[43m(\u001b[49m\n\u001b[1;32m      5\u001b[0m \u001b[43m    \u001b[49m\u001b[43mnet\u001b[49m\u001b[38;5;241;43m=\u001b[39;49m\u001b[43mnet\u001b[49m\u001b[43m,\u001b[49m\n\u001b[1;32m      6\u001b[0m \u001b[43m    \u001b[49m\u001b[43mpc0\u001b[49m\u001b[38;5;241;43m=\u001b[39;49m\u001b[43mpc_t0\u001b[49m\u001b[43m,\u001b[49m\n\u001b[1;32m      7\u001b[0m \u001b[43m    \u001b[49m\u001b[43mnc0\u001b[49m\u001b[38;5;241;43m=\u001b[39;49m\u001b[43mnc0\u001b[49m\u001b[43m,\u001b[49m\n\u001b[1;32m      8\u001b[0m \u001b[43m    \u001b[49m\u001b[43mhints0\u001b[49m\u001b[38;5;241;43m=\u001b[39;49m\u001b[43mpts_hintst0\u001b[49m\u001b[43m,\u001b[49m\n\u001b[1;32m      9\u001b[0m \u001b[43m    \u001b[49m\u001b[43mgtsdf0\u001b[49m\u001b[38;5;241;43m=\u001b[39;49m\u001b[43mgt_sdf_hints0\u001b[49m\u001b[43m,\u001b[49m\n\u001b[1;32m     10\u001b[0m \u001b[43m    \u001b[49m\u001b[43mvf\u001b[49m\u001b[38;5;241;43m=\u001b[39;49m\u001b[43mvf\u001b[49m\u001b[43m,\u001b[49m\n\u001b[1;32m     11\u001b[0m \u001b[43m    \u001b[49m\u001b[43mlpc\u001b[49m\u001b[38;5;241;43m=\u001b[39;49m\u001b[43mlpc\u001b[49m\u001b[43m,\u001b[49m\n\u001b[1;32m     12\u001b[0m \u001b[43m    \u001b[49m\u001b[43mleik\u001b[49m\u001b[38;5;241;43m=\u001b[39;49m\u001b[43mleik\u001b[49m\u001b[43m,\u001b[49m\n\u001b[1;32m     13\u001b[0m \u001b[43m    \u001b[49m\u001b[43mlh\u001b[49m\u001b[38;5;241;43m=\u001b[39;49m\u001b[43mlh\u001b[49m\u001b[43m,\u001b[49m\n\u001b[1;32m     14\u001b[0m \u001b[43m    \u001b[49m\u001b[43mllse\u001b[49m\u001b[38;5;241;43m=\u001b[39;49m\u001b[43mllse\u001b[49m\u001b[43m,\u001b[49m\n\u001b[1;32m     15\u001b[0m \u001b[43m    \u001b[49m\u001b[43mlemd\u001b[49m\u001b[38;5;241;43m=\u001b[39;49m\u001b[43mlemd\u001b[49m\u001b[43m,\u001b[49m\n\u001b[1;32m     16\u001b[0m \u001b[43m    \u001b[49m\u001b[43mlgc\u001b[49m\u001b[38;5;241;43m=\u001b[39;49m\u001b[43mlgc\u001b[49m\u001b[43m,\u001b[49m\n\u001b[1;32m     17\u001b[0m \u001b[43m    \u001b[49m\u001b[43mlambda_pc\u001b[49m\u001b[38;5;241;43m=\u001b[39;49m\u001b[38;5;241;43m1\u001b[39;49m\u001b[43m,\u001b[49m\n\u001b[1;32m     18\u001b[0m \u001b[43m    \u001b[49m\u001b[43mlambda_eik\u001b[49m\u001b[38;5;241;43m=\u001b[39;49m\u001b[38;5;241;43m2\u001b[39;49m\u001b[43m,\u001b[49m\n\u001b[1;32m     19\u001b[0m \u001b[43m    \u001b[49m\u001b[43mlambda_hint\u001b[49m\u001b[38;5;241;43m=\u001b[39;49m\u001b[38;5;241;43m1\u001b[39;49m\u001b[43m,\u001b[49m\n\u001b[1;32m     20\u001b[0m \u001b[43m    \u001b[49m\u001b[43mlambda_lse\u001b[49m\u001b[38;5;241;43m=\u001b[39;49m\u001b[38;5;241;43m2\u001b[39;49m\u001b[43m,\u001b[49m\n\u001b[1;32m     21\u001b[0m \u001b[43m    \u001b[49m\u001b[43mlambda_gc\u001b[49m\u001b[38;5;241;43m=\u001b[39;49m\u001b[38;5;241;43m1\u001b[39;49m\u001b[43m,\u001b[49m\n\u001b[1;32m     22\u001b[0m \u001b[43m    \u001b[49m\u001b[43mlambda_emd\u001b[49m\u001b[38;5;241;43m=\u001b[39;49m\u001b[38;5;241;43m1\u001b[39;49m\u001b[43m,\u001b[49m\n\u001b[1;32m     23\u001b[0m \u001b[43m    \u001b[49m\u001b[43mbatch_size\u001b[49m\u001b[38;5;241;43m=\u001b[39;49m\u001b[38;5;241;43m2000\u001b[39;49m\u001b[43m,\u001b[49m\n\u001b[1;32m     24\u001b[0m \u001b[43m    \u001b[49m\u001b[43mnepochs\u001b[49m\u001b[38;5;241;43m=\u001b[39;49m\u001b[43mnepochs\u001b[49m\u001b[43m,\u001b[49m\n\u001b[1;32m     25\u001b[0m \u001b[43m    \u001b[49m\u001b[43mplot_loss\u001b[49m\u001b[38;5;241;43m=\u001b[39;49m\u001b[38;5;28;43;01mTrue\u001b[39;49;00m\u001b[43m,\u001b[49m\n\u001b[1;32m     26\u001b[0m \u001b[43m)\u001b[49m\n\u001b[1;32m     28\u001b[0m torch\u001b[38;5;241m.\u001b[39msave(net, \u001b[38;5;124m\"\u001b[39m\u001b[38;5;124mnet_vf_\u001b[39m\u001b[38;5;132;01m{}\u001b[39;00m\u001b[38;5;124m_\u001b[39m\u001b[38;5;132;01m{}\u001b[39;00m\u001b[38;5;124m.net\u001b[39m\u001b[38;5;124m\"\u001b[39m\u001b[38;5;241m.\u001b[39mformat(npl, depth))\n",
      "Cell \u001b[0;32mIn[199], line 57\u001b[0m, in \u001b[0;36moptimize_nise_vf\u001b[0;34m(net, pc0, nc0, hints0, gtsdf0, vf, lpc, leik, lh, llse, lemd, lgc, lambda_pc, lambda_eik, lambda_hint, lambda_lse, lambda_gc, lambda_emd, batch_size, nepochs, plot_loss)\u001b[0m\n\u001b[1;32m     33\u001b[0m optim\u001b[38;5;241m.\u001b[39mzero_grad()\n\u001b[1;32m     35\u001b[0m loss \u001b[38;5;241m=\u001b[39m evaluate_loss_cst_vf(\n\u001b[1;32m     36\u001b[0m     net\u001b[38;5;241m=\u001b[39mnet,\n\u001b[1;32m     37\u001b[0m     pc\u001b[38;5;241m=\u001b[39mpc0,\n\u001b[0;32m   (...)\u001b[0m\n\u001b[1;32m     54\u001b[0m \n\u001b[1;32m     55\u001b[0m )\n\u001b[0;32m---> 57\u001b[0m \u001b[43mloss\u001b[49m\u001b[38;5;241;43m.\u001b[39;49m\u001b[43mbackward\u001b[49m\u001b[43m(\u001b[49m\u001b[43m)\u001b[49m\n\u001b[1;32m     58\u001b[0m optim\u001b[38;5;241m.\u001b[39mstep()\n\u001b[1;32m     59\u001b[0m \u001b[38;5;28;01mif\u001b[39;00m batch \u001b[38;5;241m%\u001b[39m \u001b[38;5;241m100\u001b[39m \u001b[38;5;241m==\u001b[39m \u001b[38;5;241m99\u001b[39m \u001b[38;5;129;01mor\u001b[39;00m batch \u001b[38;5;241m==\u001b[39m \u001b[38;5;241m0\u001b[39m:\n\u001b[1;32m     60\u001b[0m     \u001b[38;5;66;03m# print(f\"Epoch {batch}/{nepochs} - loss : {loss.item()}\")\u001b[39;00m\n",
      "File \u001b[0;32m~/mva_geom/mva_geom_24/venv/lib/python3.8/site-packages/torch/_tensor.py:521\u001b[0m, in \u001b[0;36mTensor.backward\u001b[0;34m(self, gradient, retain_graph, create_graph, inputs)\u001b[0m\n\u001b[1;32m    511\u001b[0m \u001b[38;5;28;01mif\u001b[39;00m has_torch_function_unary(\u001b[38;5;28mself\u001b[39m):\n\u001b[1;32m    512\u001b[0m     \u001b[38;5;28;01mreturn\u001b[39;00m handle_torch_function(\n\u001b[1;32m    513\u001b[0m         Tensor\u001b[38;5;241m.\u001b[39mbackward,\n\u001b[1;32m    514\u001b[0m         (\u001b[38;5;28mself\u001b[39m,),\n\u001b[0;32m   (...)\u001b[0m\n\u001b[1;32m    519\u001b[0m         inputs\u001b[38;5;241m=\u001b[39minputs,\n\u001b[1;32m    520\u001b[0m     )\n\u001b[0;32m--> 521\u001b[0m \u001b[43mtorch\u001b[49m\u001b[38;5;241;43m.\u001b[39;49m\u001b[43mautograd\u001b[49m\u001b[38;5;241;43m.\u001b[39;49m\u001b[43mbackward\u001b[49m\u001b[43m(\u001b[49m\n\u001b[1;32m    522\u001b[0m \u001b[43m    \u001b[49m\u001b[38;5;28;43mself\u001b[39;49m\u001b[43m,\u001b[49m\u001b[43m \u001b[49m\u001b[43mgradient\u001b[49m\u001b[43m,\u001b[49m\u001b[43m \u001b[49m\u001b[43mretain_graph\u001b[49m\u001b[43m,\u001b[49m\u001b[43m \u001b[49m\u001b[43mcreate_graph\u001b[49m\u001b[43m,\u001b[49m\u001b[43m \u001b[49m\u001b[43minputs\u001b[49m\u001b[38;5;241;43m=\u001b[39;49m\u001b[43minputs\u001b[49m\n\u001b[1;32m    523\u001b[0m \u001b[43m\u001b[49m\u001b[43m)\u001b[49m\n",
      "File \u001b[0;32m~/mva_geom/mva_geom_24/venv/lib/python3.8/site-packages/torch/autograd/__init__.py:289\u001b[0m, in \u001b[0;36mbackward\u001b[0;34m(tensors, grad_tensors, retain_graph, create_graph, grad_variables, inputs)\u001b[0m\n\u001b[1;32m    284\u001b[0m     retain_graph \u001b[38;5;241m=\u001b[39m create_graph\n\u001b[1;32m    286\u001b[0m \u001b[38;5;66;03m# The reason we repeat the same comment below is that\u001b[39;00m\n\u001b[1;32m    287\u001b[0m \u001b[38;5;66;03m# some Python versions print out the first line of a multi-line function\u001b[39;00m\n\u001b[1;32m    288\u001b[0m \u001b[38;5;66;03m# calls in the traceback and some print out the last line\u001b[39;00m\n\u001b[0;32m--> 289\u001b[0m \u001b[43m_engine_run_backward\u001b[49m\u001b[43m(\u001b[49m\n\u001b[1;32m    290\u001b[0m \u001b[43m    \u001b[49m\u001b[43mtensors\u001b[49m\u001b[43m,\u001b[49m\n\u001b[1;32m    291\u001b[0m \u001b[43m    \u001b[49m\u001b[43mgrad_tensors_\u001b[49m\u001b[43m,\u001b[49m\n\u001b[1;32m    292\u001b[0m \u001b[43m    \u001b[49m\u001b[43mretain_graph\u001b[49m\u001b[43m,\u001b[49m\n\u001b[1;32m    293\u001b[0m \u001b[43m    \u001b[49m\u001b[43mcreate_graph\u001b[49m\u001b[43m,\u001b[49m\n\u001b[1;32m    294\u001b[0m \u001b[43m    \u001b[49m\u001b[43minputs\u001b[49m\u001b[43m,\u001b[49m\n\u001b[1;32m    295\u001b[0m \u001b[43m    \u001b[49m\u001b[43mallow_unreachable\u001b[49m\u001b[38;5;241;43m=\u001b[39;49m\u001b[38;5;28;43;01mTrue\u001b[39;49;00m\u001b[43m,\u001b[49m\n\u001b[1;32m    296\u001b[0m \u001b[43m    \u001b[49m\u001b[43maccumulate_grad\u001b[49m\u001b[38;5;241;43m=\u001b[39;49m\u001b[38;5;28;43;01mTrue\u001b[39;49;00m\u001b[43m,\u001b[49m\n\u001b[1;32m    297\u001b[0m \u001b[43m\u001b[49m\u001b[43m)\u001b[49m\n",
      "File \u001b[0;32m~/mva_geom/mva_geom_24/venv/lib/python3.8/site-packages/torch/autograd/graph.py:769\u001b[0m, in \u001b[0;36m_engine_run_backward\u001b[0;34m(t_outputs, *args, **kwargs)\u001b[0m\n\u001b[1;32m    767\u001b[0m     unregister_hooks \u001b[38;5;241m=\u001b[39m _register_logging_hooks_on_whole_graph(t_outputs)\n\u001b[1;32m    768\u001b[0m \u001b[38;5;28;01mtry\u001b[39;00m:\n\u001b[0;32m--> 769\u001b[0m     \u001b[38;5;28;01mreturn\u001b[39;00m \u001b[43mVariable\u001b[49m\u001b[38;5;241;43m.\u001b[39;49m\u001b[43m_execution_engine\u001b[49m\u001b[38;5;241;43m.\u001b[39;49m\u001b[43mrun_backward\u001b[49m\u001b[43m(\u001b[49m\u001b[43m  \u001b[49m\u001b[38;5;66;43;03m# Calls into the C++ engine to run the backward pass\u001b[39;49;00m\n\u001b[1;32m    770\u001b[0m \u001b[43m        \u001b[49m\u001b[43mt_outputs\u001b[49m\u001b[43m,\u001b[49m\u001b[43m \u001b[49m\u001b[38;5;241;43m*\u001b[39;49m\u001b[43margs\u001b[49m\u001b[43m,\u001b[49m\u001b[43m \u001b[49m\u001b[38;5;241;43m*\u001b[39;49m\u001b[38;5;241;43m*\u001b[39;49m\u001b[43mkwargs\u001b[49m\n\u001b[1;32m    771\u001b[0m \u001b[43m    \u001b[49m\u001b[43m)\u001b[49m  \u001b[38;5;66;03m# Calls into the C++ engine to run the backward pass\u001b[39;00m\n\u001b[1;32m    772\u001b[0m \u001b[38;5;28;01mfinally\u001b[39;00m:\n\u001b[1;32m    773\u001b[0m     \u001b[38;5;28;01mif\u001b[39;00m attach_logging_hooks:\n",
      "File \u001b[0;32m~/mva_geom/mva_geom_24/venv/lib/python3.8/site-packages/torch/autograd/function.py:291\u001b[0m, in \u001b[0;36mBackwardCFunction.apply\u001b[0;34m(self, *args)\u001b[0m\n\u001b[1;32m    286\u001b[0m \u001b[38;5;28;01mclass\u001b[39;00m \u001b[38;5;21;01mBackwardCFunction\u001b[39;00m(_C\u001b[38;5;241m.\u001b[39m_FunctionBase, FunctionCtx, _HookMixin):\n\u001b[1;32m    287\u001b[0m \u001b[38;5;250m    \u001b[39m\u001b[38;5;124mr\u001b[39m\u001b[38;5;124;03m\"\"\"\u001b[39;00m\n\u001b[1;32m    288\u001b[0m \u001b[38;5;124;03m    This class is used for internal autograd work. Do not use.\u001b[39;00m\n\u001b[1;32m    289\u001b[0m \u001b[38;5;124;03m    \"\"\"\u001b[39;00m\n\u001b[0;32m--> 291\u001b[0m     \u001b[38;5;28;01mdef\u001b[39;00m \u001b[38;5;21mapply\u001b[39m(\u001b[38;5;28mself\u001b[39m, \u001b[38;5;241m*\u001b[39margs):\n\u001b[1;32m    292\u001b[0m \u001b[38;5;250m        \u001b[39m\u001b[38;5;124mr\u001b[39m\u001b[38;5;124;03m\"\"\"\u001b[39;00m\n\u001b[1;32m    293\u001b[0m \u001b[38;5;124;03m        Apply method used when executing this Node during the backward\u001b[39;00m\n\u001b[1;32m    294\u001b[0m \u001b[38;5;124;03m        \"\"\"\u001b[39;00m\n\u001b[1;32m    295\u001b[0m         \u001b[38;5;66;03m# _forward_cls is defined by derived class\u001b[39;00m\n\u001b[1;32m    296\u001b[0m         \u001b[38;5;66;03m# The user should define either backward or vjp but never both.\u001b[39;00m\n",
      "\u001b[0;31mKeyboardInterrupt\u001b[0m: "
     ]
    }
   ],
   "source": [
    "\n",
    "\n",
    "pc_t0 = pc0.clone()\n",
    "pts_hintst0 = pts_hints0.clone()\n",
    "nepochs = 1000\n",
    "optimize_nise_vf(\n",
    "    net=net,\n",
    "    pc0=pc_t0,\n",
    "    nc0=nc0,\n",
    "    hints0=pts_hintst0,\n",
    "    gtsdf0=gt_sdf_hints0,\n",
    "    vf=vf,\n",
    "    lpc=lpc,\n",
    "    leik=leik,\n",
    "    lh=lh,\n",
    "    llse=llse,\n",
    "    lemd=lemd,\n",
    "    lgc=lgc,\n",
    "    lambda_pc=1,\n",
    "    lambda_eik=2,\n",
    "    lambda_hint=1,\n",
    "    lambda_lse=2,\n",
    "    lambda_gc=1,\n",
    "    lambda_emd=1,\n",
    "    batch_size=2000,\n",
    "    nepochs=nepochs,\n",
    "    plot_loss=True,\n",
    ")\n",
    "\n",
    "torch.save(net, \"net_vf_{}_{}.net\".format(npl, depth))"
   ]
  },
  {
   "cell_type": "code",
   "execution_count": null,
   "metadata": {},
   "outputs": [],
   "source": []
  },
  {
   "cell_type": "code",
   "execution_count": null,
   "metadata": {},
   "outputs": [],
   "source": [
    "def display_result(f, resolution, filename=None, figsize=(14, 5)):\n",
    "    \"\"\"\n",
    "    displays the values of the function f, evaluated over a regular grid defined between -1 and 1 and of resolution (resolution x resolution)\n",
    "    \"\"\"\n",
    "    fig, plots = plt.subplots(2,2, figsize=figsize)\n",
    "\n",
    "    for time in range(1):\n",
    "        i = time//5\n",
    "        j = time - i*5\n",
    "        t = 0.1 * time\n",
    "        coords = torch.stack(list(torch.meshgrid([torch.linspace(-1, 1, resolution, device = device)]*2, indexing = 'xy')), dim=2).reshape(-1, 2)\n",
    "        print(\"coords\",coords.shape)\n",
    "        coords.requires_grad = True\n",
    "        sdf = f(coords)#.reshape(resolution, resolution)\n",
    "        print(sdf.shape)\n",
    "        #reshape sdf\n",
    "        sdf=sdf.reshape(resolution,resolution)\n",
    "        numpy_sdf = sdf.detach().cpu().numpy()\n",
    "\n",
    "        eps = 0.005\n",
    "        numpy_sdf_max = np.ones(numpy_sdf.shape)-np.maximum(numpy_sdf,np.zeros(numpy_sdf.shape))\n",
    "        numpy_sdf_max = numpy_sdf_max - np.multiply(numpy_sdf_max, np.multiply(numpy_sdf<=eps, numpy_sdf>=-eps))\n",
    "        numpy_sdf_min = np.ones(numpy_sdf.shape)-np.maximum(-numpy_sdf,np.zeros(numpy_sdf.shape))\n",
    "        numpy_sdf_min = numpy_sdf_min - np.multiply(numpy_sdf_min, np.multiply(numpy_sdf<=eps, numpy_sdf>=-eps))\n",
    "        numpy_sdf_both = np.ones(numpy_sdf.shape)-np.maximum(numpy_sdf,np.zeros(numpy_sdf.shape))-np.maximum(-numpy_sdf,np.zeros(numpy_sdf.shape))\n",
    "        numpy_sdf_both = numpy_sdf_both - np.multiply(numpy_sdf_both, np.multiply(numpy_sdf<=eps, numpy_sdf>=-eps))\n",
    "\n",
    "        plots[i,j].axis('off')\n",
    "        plots[i,j].imshow(np.concatenate([numpy_sdf_min[:,:,np.newaxis],numpy_sdf_both[:,:,np.newaxis],numpy_sdf_max[:,:,np.newaxis]], axis = 2) )\n",
    "        plots[i,j].contour(numpy_sdf, 10, colors='k', linewidths=.4, linestyles='solid')\n",
    "    \n",
    "    if filename==None:\n",
    "        plt.show()\n",
    "    else :\n",
    "        plt.savefig(filename)\n",
    "        plt.close()\n"
   ]
  },
  {
   "cell_type": "code",
   "execution_count": 190,
   "metadata": {},
   "outputs": [],
   "source": [
    "import torch\n",
    "import torch.nn as nn\n",
    "import numpy as np\n",
    "import matplotlib.pyplot as plt\n",
    "\n",
    "def display_result(f, resolution, filename=None, figsize=(14, 5)):\n",
    "    \"\"\"\n",
    "    Displays the values of the function f, evaluated over a regular grid \n",
    "    defined between -1 and 1 with a resolution of (resolution x resolution).\n",
    "    \"\"\"\n",
    "    fig, plots = plt.subplots(2, 2, figsize=figsize)\n",
    "\n",
    "    for time in range(1):\n",
    "        i = time // 5\n",
    "        j = time - i * 5\n",
    "        t = 0.1 * time\n",
    "\n",
    "        # Create a grid of coordinates\n",
    "        coords = torch.stack(list(torch.meshgrid([torch.linspace(-1, 1, resolution, device=device)] * 2, indexing='xy')), dim=2)\n",
    "        coords = coords.reshape(-1, 2)  # Shape: (resolution*resolution, 2)\n",
    "        print(\"coords shape before adding t:\", coords.shape)\n",
    "\n",
    "\n",
    "        # Ensure coordinates require gradients\n",
    "        coords.requires_grad = True\n",
    "\n",
    "        # Forward pass through the network\n",
    "        sdf = f(coords)\n",
    "        print(\"sdf shape before reshape:\", sdf.shape)\n",
    "\n",
    "        # Fix reshaping: Remove singleton dimension if present\n",
    "        sdf = sdf.squeeze(-1).reshape(resolution, resolution)\n",
    "        numpy_sdf = sdf.detach().cpu().numpy()\n",
    "\n",
    "        # Processing SDF for visualization\n",
    "        eps = 0.005\n",
    "        numpy_sdf_max = 1 - np.maximum(numpy_sdf, np.zeros(numpy_sdf.shape))\n",
    "        numpy_sdf_max = numpy_sdf_max - np.multiply(numpy_sdf_max, np.multiply(numpy_sdf <= eps, numpy_sdf >= -eps))\n",
    "\n",
    "        numpy_sdf_min = 1 - np.maximum(-numpy_sdf, np.zeros(numpy_sdf.shape))\n",
    "        numpy_sdf_min = numpy_sdf_min - np.multiply(numpy_sdf_min, np.multiply(numpy_sdf <= eps, numpy_sdf >= -eps))\n",
    "\n",
    "        numpy_sdf_both = 1 - np.maximum(numpy_sdf, np.zeros(numpy_sdf.shape)) - np.maximum(-numpy_sdf, np.zeros(numpy_sdf.shape))\n",
    "        numpy_sdf_both = numpy_sdf_both - np.multiply(numpy_sdf_both, np.multiply(numpy_sdf <= eps, numpy_sdf >= -eps))\n",
    "\n",
    "        # Displaying the result\n",
    "        plots[i, j].axis('off')\n",
    "        plots[i, j].imshow(np.concatenate([numpy_sdf_min[:, :, np.newaxis], \n",
    "                                           numpy_sdf_both[:, :, np.newaxis], \n",
    "                                           numpy_sdf_max[:, :, np.newaxis]], axis=2))\n",
    "        plots[i, j].contour(numpy_sdf, 10, colors='k', linewidths=0.4, linestyles='solid')\n",
    "\n",
    "    # Show or save the figure\n",
    "    if filename is None:\n",
    "        plt.show()\n",
    "    else:\n",
    "        plt.savefig(filename)\n",
    "        plt.close()\n"
   ]
  },
  {
   "cell_type": "code",
   "execution_count": 180,
   "metadata": {},
   "outputs": [
    {
     "data": {
      "text/plain": [
       "400.0"
      ]
     },
     "execution_count": 180,
     "metadata": {},
     "output_type": "execute_result"
    }
   ],
   "source": [
    "80000/200"
   ]
  },
  {
   "cell_type": "code",
   "execution_count": 191,
   "metadata": {},
   "outputs": [
    {
     "name": "stdout",
     "output_type": "stream",
     "text": [
      "coords shape before adding t: torch.Size([40000, 2])\n",
      "sdf shape before reshape: torch.Size([40000, 2])\n"
     ]
    },
    {
     "name": "stderr",
     "output_type": "stream",
     "text": [
      "/tmp/ipykernel_824025/3036110033.py:1: FutureWarning: You are using `torch.load` with `weights_only=False` (the current default value), which uses the default pickle module implicitly. It is possible to construct malicious pickle data which will execute arbitrary code during unpickling (See https://github.com/pytorch/pytorch/blob/main/SECURITY.md#untrusted-models for more details). In a future release, the default value for `weights_only` will be flipped to `True`. This limits the functions that could be executed during unpickling. Arbitrary objects will no longer be allowed to be loaded via this mode unless they are explicitly allowlisted by the user via `torch.serialization.add_safe_globals`. We recommend you start setting `weights_only=True` for any use case where you don't have full control of the loaded file. Please open an issue on GitHub for any issues related to this experimental feature.\n",
      "  net2= torch.load(\"net_vf_128_3.net\")\n"
     ]
    },
    {
     "ename": "RuntimeError",
     "evalue": "shape '[200, 200]' is invalid for input of size 80000",
     "output_type": "error",
     "traceback": [
      "\u001b[0;31m---------------------------------------------------------------------------\u001b[0m",
      "\u001b[0;31mRuntimeError\u001b[0m                              Traceback (most recent call last)",
      "Cell \u001b[0;32mIn[191], line 2\u001b[0m\n\u001b[1;32m      1\u001b[0m net2\u001b[38;5;241m=\u001b[39m torch\u001b[38;5;241m.\u001b[39mload(\u001b[38;5;124m\"\u001b[39m\u001b[38;5;124mnet_vf_128_3.net\u001b[39m\u001b[38;5;124m\"\u001b[39m)\n\u001b[0;32m----> 2\u001b[0m \u001b[43mdisplay_result\u001b[49m\u001b[43m(\u001b[49m\u001b[43mnet2\u001b[49m\u001b[43m,\u001b[49m\u001b[43m \u001b[49m\u001b[43mresolution\u001b[49m\u001b[38;5;241;43m=\u001b[39;49m\u001b[38;5;241;43m200\u001b[39;49m\u001b[43m,\u001b[49m\u001b[43m \u001b[49m\u001b[43mfigsize\u001b[49m\u001b[38;5;241;43m=\u001b[39;49m\u001b[43m(\u001b[49m\u001b[38;5;241;43m14\u001b[39;49m\u001b[43m,\u001b[49m\u001b[43m \u001b[49m\u001b[38;5;241;43m5\u001b[39;49m\u001b[43m)\u001b[49m\u001b[43m)\u001b[49m\n",
      "Cell \u001b[0;32mIn[190], line 32\u001b[0m, in \u001b[0;36mdisplay_result\u001b[0;34m(f, resolution, filename, figsize)\u001b[0m\n\u001b[1;32m     29\u001b[0m \u001b[38;5;28mprint\u001b[39m(\u001b[38;5;124m\"\u001b[39m\u001b[38;5;124msdf shape before reshape:\u001b[39m\u001b[38;5;124m\"\u001b[39m, sdf\u001b[38;5;241m.\u001b[39mshape)\n\u001b[1;32m     31\u001b[0m \u001b[38;5;66;03m# Fix reshaping: Remove singleton dimension if present\u001b[39;00m\n\u001b[0;32m---> 32\u001b[0m sdf \u001b[38;5;241m=\u001b[39m \u001b[43msdf\u001b[49m\u001b[38;5;241;43m.\u001b[39;49m\u001b[43msqueeze\u001b[49m\u001b[43m(\u001b[49m\u001b[38;5;241;43m-\u001b[39;49m\u001b[38;5;241;43m1\u001b[39;49m\u001b[43m)\u001b[49m\u001b[38;5;241;43m.\u001b[39;49m\u001b[43mreshape\u001b[49m\u001b[43m(\u001b[49m\u001b[43mresolution\u001b[49m\u001b[43m,\u001b[49m\u001b[43m \u001b[49m\u001b[43mresolution\u001b[49m\u001b[43m)\u001b[49m\n\u001b[1;32m     33\u001b[0m numpy_sdf \u001b[38;5;241m=\u001b[39m sdf\u001b[38;5;241m.\u001b[39mdetach()\u001b[38;5;241m.\u001b[39mcpu()\u001b[38;5;241m.\u001b[39mnumpy()\n\u001b[1;32m     35\u001b[0m \u001b[38;5;66;03m# Processing SDF for visualization\u001b[39;00m\n",
      "\u001b[0;31mRuntimeError\u001b[0m: shape '[200, 200]' is invalid for input of size 80000"
     ]
    },
    {
     "data": {
      "image/png": "[encoded data removed]",
      "text/plain": [
       "<Figure size 1400x500 with 4 Axes>"
      ]
     },
     "metadata": {},
     "output_type": "display_data"
    }
   ],
   "source": [
    "net2= torch.load(\"net_vf_128_3.net\")\n",
    "display_result(net2, resolution=200, figsize=(14, 5))"
   ]
  }
 ],
 "metadata": {
  "kernelspec": {
   "display_name": "venv",
   "language": "python",
   "name": "python3"
  },
  "language_info": {
   "codemirror_mode": {
    "name": "ipython",
    "version": 3
   },
   "file_extension": ".py",
   "mimetype": "text/x-python",
   "name": "python",
   "nbconvert_exporter": "python",
   "pygments_lexer": "ipython3",
   "version": "3.8.10"
  }
 },
 "nbformat": 4,
 "nbformat_minor": 2
}
